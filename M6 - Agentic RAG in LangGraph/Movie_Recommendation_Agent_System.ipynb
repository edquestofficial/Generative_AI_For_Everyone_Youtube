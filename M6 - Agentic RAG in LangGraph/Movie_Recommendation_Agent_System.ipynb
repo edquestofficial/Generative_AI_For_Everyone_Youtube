{
  "nbformat": 4,
  "nbformat_minor": 0,
  "metadata": {
    "colab": {
      "provenance": []
    },
    "kernelspec": {
      "name": "python3",
      "display_name": "Python 3"
    },
    "language_info": {
      "name": "python"
    }
  },
  "cells": [
    {
      "cell_type": "markdown",
      "source": [
        "**Design your own Streamlit Code** and play the following code for the ***Movie Recommendation Agent***\n",
        "\n"
      ],
      "metadata": {
        "id": "Pc_cYnb5S0jU"
      }
    },
    {
      "cell_type": "code",
      "source": [],
      "metadata": {
        "id": "3TUScL-gWchL"
      },
      "execution_count": null,
      "outputs": []
    },
    {
      "cell_type": "code",
      "source": [
        "!pip install langgraph langchain-core langchain-google-genai requests\n"
      ],
      "metadata": {
        "id": "G037e7PxQ8I7"
      },
      "execution_count": null,
      "outputs": []
    },
    {
      "cell_type": "code",
      "source": [
        "# --- 2. Imports and Setup ---\n",
        "import requests\n",
        "import random\n",
        "import re\n",
        "from typing import TypedDict, Optional, Literal, List\n",
        "from langgraph.graph import StateGraph, END\n",
        "from langchain_core.tools import Tool\n",
        "from langchain_google_genai import ChatGoogleGenerativeAI"
      ],
      "metadata": {
        "id": "3X9feEetRDxb"
      },
      "execution_count": null,
      "outputs": []
    },
    {
      "cell_type": "code",
      "source": [
        "# --- 3. Define MovieState ---\n",
        "class MovieState(TypedDict):\n",
        "    year: Optional[str]\n",
        "    movie: Optional[str]\n",
        "    next_action: Optional[Literal[\"continue\", \"exit\"]]\n",
        "    history: List[str]\n",
        "    count: int\n",
        "    genre: Optional[str]"
      ],
      "metadata": {
        "id": "No00RrKeRFiC"
      },
      "execution_count": null,
      "outputs": []
    },
    {
      "cell_type": "code",
      "source": [
        "#4. Movie Tool Function ---\n",
        "def movie_tool(year: str, count: int = 5, genre: str = None) -> dict:\n",
        "    url = \"https://raw.githubusercontent.com/prust/wikipedia-movie-data/master/movies.json\"\n",
        "    movies = requests.get(url).json()\n",
        "\n",
        "    # Filter by year\n",
        "    year_int = int(year)\n",
        "    filtered = [m for m in movies if m[\"year\"] == year_int]\n",
        "\n",
        "    # Filter by genre if provided\n",
        "    if genre:\n",
        "        filtered = [m for m in filtered if genre.lower() in [g.lower() for g in m.get(\"genres\", [])]]\n",
        "\n",
        "    # Random selection\n",
        "    if not filtered:\n",
        "        return {\"movies\": [], \"llm_recommendations\": \"No movies found for that year/genre.\"}\n",
        "\n",
        "    chosen_movies = random.sample(filtered, min(count, len(filtered)))\n",
        "    movie_list = [f\"{m['title']} ({m['year']})\" for m in chosen_movies]\n",
        "\n",
        "    # --- Gemini LLM Recommendation ---\n",
        "    llm = ChatGoogleGenerativeAI(\n",
        "        model=\"gemini-2.5-flash\",\n",
        "        temperature=0.7,\n",
        "        google_api_key=\"\"  # 🔑 Replace with your key\n",
        "    )\n",
        "\n",
        "    prompt = f\"\"\"\n",
        "    Here are some movies: {', '.join([m['title'] for m in chosen_movies])}.\n",
        "    For each movie:\n",
        "    - Give a short (max 2 sentences) recommendation or description.\n",
        "    - Style depends on genre: comedy = funny, horror = spooky, drama = emotional, action = thrilling, romance = heartfelt.\n",
        "    - Add a rating out of 10.\n",
        "    - Mention release year if available.\n",
        "\n",
        "    Then:\n",
        "    - Identify the best and top-rated movie among them.\n",
        "    - Provide a one-line comparison of why it stands out.\n",
        "    - Include a link to the rating source for the best movie.\n",
        "\n",
        "    Return the results as a Markdown table with columns:\n",
        "    Title | Genre | Year | Recommendation | Rating/10 |\n",
        "    \"\"\"\n",
        "\n",
        "    llm_recommendations = llm.invoke(prompt).content\n",
        "    return {\"movies\": movie_list, \"llm_recommendations\": llm_recommendations}\n",
        "\n"
      ],
      "metadata": {
        "id": "jY-Z7OB4RF9b"
      },
      "execution_count": null,
      "outputs": []
    },
    {
      "cell_type": "code",
      "source": [
        "# --- 5. Create Tool Wrapper ---\n",
        "movie_tool_agent = Tool(\n",
        "    name=\"MovieTool\",\n",
        "    description=\"Returns random movies from a given year and genre + Gemini recommendations\",\n",
        "    func=movie_tool\n",
        ")"
      ],
      "metadata": {
        "id": "fI1dyNTmRLhi"
      },
      "execution_count": null,
      "outputs": []
    },
    {
      "cell_type": "code",
      "source": [
        "# --- 6. Graph Node Functions ---\n",
        "def ask_user_query(state: MovieState) -> MovieState:\n",
        "    query = input(\"🎥 Enter your movie request (e.g., '5 action movies from 2015'): \").strip()\n",
        "    year_match = re.search(r\"\\b(19|20)\\d{2}\\b\", query)\n",
        "    count_match = re.search(r\"\\b\\d+\\b\", query)\n",
        "    genre_match = re.search(r\"(action|comedy|drama|horror|romance|thriller|animation)\", query, re.I)\n",
        "\n",
        "    state[\"year\"] = year_match.group(0) if year_match else None\n",
        "    state[\"count\"] = int(count_match.group(0)) if count_match else 5\n",
        "    state[\"genre\"] = genre_match.group(0).lower() if genre_match else None\n",
        "    return state\n",
        "\n",
        "\n",
        "def suggest_movie(state: MovieState) -> MovieState:\n",
        "    result = movie_tool_agent.func(\n",
        "        year=state[\"year\"],\n",
        "        count=state[\"count\"],\n",
        "        genre=state[\"genre\"]\n",
        "    )\n",
        "    state[\"movie\"] = \", \".join(result[\"movies\"])\n",
        "    state[\"history\"].extend(result[\"movies\"])\n",
        "\n",
        "    print(\"\\n🎬 Suggested movies:\", state[\"movie\"])\n",
        "    print(\"\\n🤖 Gemini Recommendations:\\n\", result[\"llm_recommendations\"])\n",
        "    return state\n",
        "\n",
        "\n",
        "def should_continue(state: MovieState) -> MovieState:\n",
        "    state[\"next_action\"] = input(\"\\nType 'continue' for another recommendation or 'exit' to stop: \").strip().lower()\n",
        "    return state\n",
        "\n",
        "\n",
        "def decide_route(state: MovieState) -> str:\n",
        "    return \"ask_user_query\" if state[\"next_action\"] == \"continue\" else END\n"
      ],
      "metadata": {
        "id": "NcCKiNTaRLv7"
      },
      "execution_count": null,
      "outputs": []
    },
    {
      "cell_type": "code",
      "source": [
        "# --- 7. Create LangGraph Workflow ---\n",
        "graph = StateGraph(MovieState)\n",
        "graph.add_node(\"ask_user_query\", ask_user_query)\n",
        "graph.add_node(\"suggest_movie\", suggest_movie)\n",
        "graph.add_node(\"should_continue\", should_continue)\n",
        "graph.set_entry_point(\"ask_user_query\")\n",
        "graph.add_edge(\"ask_user_query\", \"suggest_movie\")\n",
        "graph.add_edge(\"suggest_movie\", \"should_continue\")\n",
        "graph.add_conditional_edges(\"should_continue\", decide_route)\n",
        "\n",
        "app = graph.compile()\n"
      ],
      "metadata": {
        "id": "4y-RARQ6ROjr"
      },
      "execution_count": null,
      "outputs": []
    },
    {
      "cell_type": "code",
      "source": [
        "# # --- 8. Run the CineGraph Agent ---\n",
        "print(\"🎬 Welcome to CineGraph (Colab Version)!\")\n",
        "print(\"Discover random movies with AI recommendations from Gemini.\\n\")\n",
        "\n",
        "initial_state: MovieState = {\"year\": None, \"movie\": None, \"next_action\": \"continue\", \"history\": [], \"count\": 5, \"genre\": None}\n",
        "\n",
        "app.invoke(initial_state)"
      ],
      "metadata": {
        "id": "eJ89eSFqRUeL"
      },
      "execution_count": 11,
      "outputs": []
    },
    {
      "cell_type": "code",
      "source": [],
      "metadata": {
        "id": "3U43So_lRzQy"
      },
      "execution_count": null,
      "outputs": []
    }
  ]
}