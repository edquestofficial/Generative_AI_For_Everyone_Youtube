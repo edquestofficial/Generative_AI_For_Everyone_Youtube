{
 "cells": [
  {
   "cell_type": "markdown",
   "id": "2d2f2f99",
   "metadata": {},
   "source": [
    "## Installing the Dependencies"
   ]
  },
  {
   "cell_type": "code",
   "execution_count": 8,
   "id": "e970e990",
   "metadata": {},
   "outputs": [
    {
     "name": "stdout",
     "output_type": "stream",
     "text": [
      "Defaulting to user installation because normal site-packages is not writeable\n",
      "Requirement already satisfied: langgraph in c:\\users\\edquestofficial\\appdata\\roaming\\python\\python39\\site-packages (0.6.8)\n",
      "Requirement already satisfied: langgraph-checkpoint<3.0.0,>=2.1.0 in c:\\users\\edquestofficial\\appdata\\roaming\\python\\python39\\site-packages (from langgraph) (2.1.1)\n",
      "Requirement already satisfied: langgraph-prebuilt<0.7.0,>=0.6.0 in c:\\users\\edquestofficial\\appdata\\roaming\\python\\python39\\site-packages (from langgraph) (0.6.4)\n",
      "Requirement already satisfied: xxhash>=3.5.0 in c:\\users\\edquestofficial\\appdata\\roaming\\python\\python39\\site-packages (from langgraph) (3.5.0)\n",
      "Requirement already satisfied: langchain-core>=0.1 in c:\\users\\edquestofficial\\appdata\\roaming\\python\\python39\\site-packages (from langgraph) (0.3.76)\n",
      "Requirement already satisfied: pydantic>=2.7.4 in c:\\users\\edquestofficial\\appdata\\roaming\\python\\python39\\site-packages (from langgraph) (2.11.5)\n",
      "Requirement already satisfied: langgraph-sdk<0.3.0,>=0.2.2 in c:\\users\\edquestofficial\\appdata\\roaming\\python\\python39\\site-packages (from langgraph) (0.2.9)\n",
      "Requirement already satisfied: packaging>=23.2 in c:\\users\\edquestofficial\\appdata\\roaming\\python\\python39\\site-packages (from langchain-core>=0.1->langgraph) (24.2)\n",
      "Requirement already satisfied: tenacity!=8.4.0,<10.0.0,>=8.1.0 in c:\\users\\edquestofficial\\appdata\\roaming\\python\\python39\\site-packages (from langchain-core>=0.1->langgraph) (9.1.2)\n",
      "Requirement already satisfied: langsmith>=0.3.45 in c:\\users\\edquestofficial\\appdata\\roaming\\python\\python39\\site-packages (from langchain-core>=0.1->langgraph) (0.4.31)\n",
      "Requirement already satisfied: PyYAML>=5.3 in c:\\users\\edquestofficial\\appdata\\roaming\\python\\python39\\site-packages (from langchain-core>=0.1->langgraph) (6.0.2)\n",
      "Requirement already satisfied: jsonpatch<2.0,>=1.33 in c:\\users\\edquestofficial\\appdata\\roaming\\python\\python39\\site-packages (from langchain-core>=0.1->langgraph) (1.33)\n",
      "Requirement already satisfied: typing-extensions>=4.7 in c:\\users\\edquestofficial\\appdata\\roaming\\python\\python39\\site-packages (from langchain-core>=0.1->langgraph) (4.13.2)\n",
      "Requirement already satisfied: ormsgpack>=1.10.0 in c:\\users\\edquestofficial\\appdata\\roaming\\python\\python39\\site-packages (from langgraph-checkpoint<3.0.0,>=2.1.0->langgraph) (1.10.0)\n",
      "Requirement already satisfied: httpx>=0.25.2 in c:\\users\\edquestofficial\\appdata\\roaming\\python\\python39\\site-packages (from langgraph-sdk<0.3.0,>=0.2.2->langgraph) (0.28.1)\n",
      "Requirement already satisfied: orjson>=3.10.1 in c:\\users\\edquestofficial\\appdata\\roaming\\python\\python39\\site-packages (from langgraph-sdk<0.3.0,>=0.2.2->langgraph) (3.11.3)\n",
      "Requirement already satisfied: annotated-types>=0.6.0 in c:\\users\\edquestofficial\\appdata\\roaming\\python\\python39\\site-packages (from pydantic>=2.7.4->langgraph) (0.7.0)\n",
      "Requirement already satisfied: typing-inspection>=0.4.0 in c:\\users\\edquestofficial\\appdata\\roaming\\python\\python39\\site-packages (from pydantic>=2.7.4->langgraph) (0.4.1)\n",
      "Requirement already satisfied: pydantic-core==2.33.2 in c:\\users\\edquestofficial\\appdata\\roaming\\python\\python39\\site-packages (from pydantic>=2.7.4->langgraph) (2.33.2)\n",
      "Requirement already satisfied: certifi in c:\\users\\edquestofficial\\appdata\\roaming\\python\\python39\\site-packages (from httpx>=0.25.2->langgraph-sdk<0.3.0,>=0.2.2->langgraph) (2025.4.26)\n",
      "Requirement already satisfied: anyio in c:\\users\\edquestofficial\\appdata\\roaming\\python\\python39\\site-packages (from httpx>=0.25.2->langgraph-sdk<0.3.0,>=0.2.2->langgraph) (4.9.0)\n",
      "Requirement already satisfied: idna in c:\\users\\edquestofficial\\appdata\\roaming\\python\\python39\\site-packages (from httpx>=0.25.2->langgraph-sdk<0.3.0,>=0.2.2->langgraph) (3.10)\n",
      "Requirement already satisfied: httpcore==1.* in c:\\users\\edquestofficial\\appdata\\roaming\\python\\python39\\site-packages (from httpx>=0.25.2->langgraph-sdk<0.3.0,>=0.2.2->langgraph) (1.0.9)\n",
      "Requirement already satisfied: h11>=0.16 in c:\\users\\edquestofficial\\appdata\\roaming\\python\\python39\\site-packages (from httpcore==1.*->httpx>=0.25.2->langgraph-sdk<0.3.0,>=0.2.2->langgraph) (0.16.0)\n",
      "Requirement already satisfied: jsonpointer>=1.9 in c:\\users\\edquestofficial\\appdata\\roaming\\python\\python39\\site-packages (from jsonpatch<2.0,>=1.33->langchain-core>=0.1->langgraph) (3.0.0)\n",
      "Requirement already satisfied: requests>=2.0.0 in c:\\users\\edquestofficial\\appdata\\roaming\\python\\python39\\site-packages (from langsmith>=0.3.45->langchain-core>=0.1->langgraph) (2.32.3)\n",
      "Requirement already satisfied: zstandard>=0.23.0 in c:\\users\\edquestofficial\\appdata\\roaming\\python\\python39\\site-packages (from langsmith>=0.3.45->langchain-core>=0.1->langgraph) (0.25.0)\n",
      "Requirement already satisfied: requests-toolbelt>=1.0.0 in c:\\users\\edquestofficial\\appdata\\roaming\\python\\python39\\site-packages (from langsmith>=0.3.45->langchain-core>=0.1->langgraph) (1.0.0)\n",
      "Requirement already satisfied: urllib3<3,>=1.21.1 in c:\\users\\edquestofficial\\appdata\\roaming\\python\\python39\\site-packages (from requests>=2.0.0->langsmith>=0.3.45->langchain-core>=0.1->langgraph) (2.4.0)\n",
      "Requirement already satisfied: charset-normalizer<4,>=2 in c:\\users\\edquestofficial\\appdata\\roaming\\python\\python39\\site-packages (from requests>=2.0.0->langsmith>=0.3.45->langchain-core>=0.1->langgraph) (3.4.2)\n",
      "Requirement already satisfied: exceptiongroup>=1.0.2 in c:\\users\\edquestofficial\\appdata\\roaming\\python\\python39\\site-packages (from anyio->httpx>=0.25.2->langgraph-sdk<0.3.0,>=0.2.2->langgraph) (1.3.0)\n",
      "Requirement already satisfied: sniffio>=1.1 in c:\\users\\edquestofficial\\appdata\\roaming\\python\\python39\\site-packages (from anyio->httpx>=0.25.2->langgraph-sdk<0.3.0,>=0.2.2->langgraph) (1.3.1)\n"
     ]
    },
    {
     "name": "stderr",
     "output_type": "stream",
     "text": [
      "WARNING: You are using pip version 22.0.4; however, version 25.2 is available.\n",
      "You should consider upgrading via the 'C:\\Program Files\\Python39\\python.exe -m pip install --upgrade pip' command.\n"
     ]
    }
   ],
   "source": [
    "! pip install langgraph"
   ]
  },
  {
   "cell_type": "markdown",
   "id": "bf33945d",
   "metadata": {},
   "source": [
    "## Importing the Dependencies"
   ]
  },
  {
   "cell_type": "code",
   "execution_count": 9,
   "id": "112ee806",
   "metadata": {},
   "outputs": [],
   "source": [
    "from langgraph.graph import StateGraph, END\n",
    "from typing import TypedDict, Optional, Literal\n",
    "from IPython.display import Image, display\n"
   ]
  },
  {
   "cell_type": "markdown",
   "id": "29442476",
   "metadata": {},
   "source": [
    "## Defining the State and Creating the Nodes"
   ]
  },
  {
   "cell_type": "code",
   "execution_count": 10,
   "id": "6772aab8",
   "metadata": {},
   "outputs": [],
   "source": [
    "\n",
    "class MovieState(TypedDict):\n",
    "    genre: Optional[str]\n",
    "    movie: Optional[str]\n",
    "    next_action: Optional[Literal[\"continue\", \"exit\"]]\n",
    "\n",
    "def ask_user(state: MovieState) -> MovieState:\n",
    "    genre = input(\"Choose a genre (comedy/action): \").strip().lower()\n",
    "    if genre in [\"comedy\", \"action\"]:\n",
    "        state[\"genre\"] = genre\n",
    "    else:\n",
    "        print(\" Invalid input; please choose 'comedy' or 'action'.\")\n",
    "        state[\"genre\"] = None\n",
    "    return state\n",
    "\n",
    "def suggest_movie(state: MovieState) -> MovieState:\n",
    "    genre = state.get(\"genre\")\n",
    "    if genre == \"comedy\":\n",
    "        state[\"movie\"] = \"The Grand Budapest Hotel\"\n",
    "    elif genre == \"action\":\n",
    "        state[\"movie\"] = \"Mad Max: Fury Road\"\n",
    "    else:\n",
    "        state[\"movie\"] = \"No suggestion available\"\n",
    "    print(f\"🎥 Suggested movie: {state['movie']}\")\n",
    "    return state\n",
    "\n",
    "def should_continue(state: MovieState) -> MovieState:\n",
    "    choice = input(\"Type 'continue' for another recommendation or 'exit' to stop: \").strip().lower()\n",
    "    state[\"next_action\"] = choice\n",
    "    return state\n",
    "\n",
    "def decide_route(state: MovieState) -> str:\n",
    "        return \"ask_user\" if state[\"next_action\"] == \"continue\" else END\n"
   ]
  },
  {
   "cell_type": "markdown",
   "id": "de50ef74",
   "metadata": {},
   "source": [
    "## Adding Nodes & Edges"
   ]
  },
  {
   "cell_type": "code",
   "execution_count": 11,
   "id": "457e591a",
   "metadata": {},
   "outputs": [
    {
     "data": {
      "text/plain": [
       "<langgraph.graph.state.StateGraph at 0x1a38d81e040>"
      ]
     },
     "execution_count": 11,
     "metadata": {},
     "output_type": "execute_result"
    }
   ],
   "source": [
    "# Initialize graph\n",
    "graph = StateGraph(MovieState)\n",
    "\n",
    "# Add nodes\n",
    "graph.add_node(\"ask_user\", ask_user)\n",
    "graph.add_node(\"suggest_movie\", suggest_movie)\n",
    "graph.add_node(\"should_continue\", should_continue)\n",
    "\n",
    "\n",
    "# Conditional edges from should_continue\n",
    "graph.add_conditional_edges(\n",
    "    \"should_continue\",\n",
    "    lambda state: state[\"next_action\"],   \n",
    "    {\n",
    "        \"continue\": \"ask_user\",\n",
    "        \"exit\": END\n",
    "    }\n",
    ")\n",
    "\n",
    "# Define flow\n",
    "graph.set_entry_point(\"ask_user\")\n",
    "graph.add_edge(\"ask_user\", \"suggest_movie\")\n",
    "graph.add_edge(\"suggest_movie\", \"should_continue\")"
   ]
  },
  {
   "cell_type": "markdown",
   "id": "4532f017",
   "metadata": {},
   "source": [
    "## Compiling the Workflow"
   ]
  },
  {
   "cell_type": "code",
   "execution_count": 12,
   "id": "7b17acad",
   "metadata": {},
   "outputs": [],
   "source": [
    "app = graph.compile()\n"
   ]
  },
  {
   "cell_type": "markdown",
   "id": "143af59e",
   "metadata": {},
   "source": [
    "## Invoking the Workflow"
   ]
  },
  {
   "cell_type": "code",
   "execution_count": 13,
   "id": "112d219d",
   "metadata": {},
   "outputs": [
    {
     "data": {
      "image/png": "[encoded data removed]",
      "text/plain": [
       "<IPython.core.display.Image object>"
      ]
     },
     "metadata": {},
     "output_type": "display_data"
    }
   ],
   "source": [
    "# Initial empty state\n",
    "state = {\"genre\": None, \"movie\": None, \"next_action\": None}\n",
    "\n",
    "display(Image(app.get_graph().draw_mermaid_png()))\n"
   ]
  },
  {
   "cell_type": "code",
   "execution_count": 14,
   "id": "c26dfd8a",
   "metadata": {},
   "outputs": [
    {
     "name": "stdout",
     "output_type": "stream",
     "text": [
      "🎥 Suggested movie: The Grand Budapest Hotel\n",
      "🎥 Suggested movie: Mad Max: Fury Road\n"
     ]
    },
    {
     "data": {
      "text/plain": [
       "{'genre': 'action', 'movie': 'Mad Max: Fury Road', 'next_action': 'exit'}"
      ]
     },
     "execution_count": 14,
     "metadata": {},
     "output_type": "execute_result"
    }
   ],
   "source": [
    "\n",
    "# Start the conversation loop\n",
    "app.invoke(state)"
   ]
  },
  {
   "cell_type": "code",
   "execution_count": null,
   "id": "2b73af1e",
   "metadata": {},
   "outputs": [],
   "source": []
  }
 ],
 "metadata": {
  "kernelspec": {
   "display_name": "Python 3",
   "language": "python",
   "name": "python3"
  },
  "language_info": {
   "codemirror_mode": {
    "name": "ipython",
    "version": 3
   },
   "file_extension": ".py",
   "mimetype": "text/x-python",
   "name": "python",
   "nbconvert_exporter": "python",
   "pygments_lexer": "ipython3",
   "version": "3.9.13"
  }
 },
 "nbformat": 4,
 "nbformat_minor": 5
}
