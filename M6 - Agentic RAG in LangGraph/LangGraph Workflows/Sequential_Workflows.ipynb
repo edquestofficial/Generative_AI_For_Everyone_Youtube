{
  "cells": [
    {
      "cell_type": "markdown",
      "metadata": {
        "id": "Ay4agmB4TQn2"
      },
      "source": [
        "## Installing dependencies"
      ]
    },
    {
      "cell_type": "code",
      "execution_count": 3,
      "metadata": {
        "colab": {
          "base_uri": "https://localhost:8080/"
        },
        "collapsed": true,
        "id": "6tWumG22TSQ2",
        "outputId": "e1c2b1b3-181d-4fa2-ad57-8dca55b96502"
      },
      "outputs": [
        {
          "name": "stdout",
          "output_type": "stream",
          "text": [
            "Defaulting to user installation because normal site-packages is not writeable\n",
            "Requirement already satisfied: langgraph in c:\\users\\edquestofficial\\appdata\\roaming\\python\\python39\\site-packages (0.6.8)\n",
            "Requirement already satisfied: xxhash>=3.5.0 in c:\\users\\edquestofficial\\appdata\\roaming\\python\\python39\\site-packages (from langgraph) (3.5.0)\n",
            "Requirement already satisfied: pydantic>=2.7.4 in c:\\users\\edquestofficial\\appdata\\roaming\\python\\python39\\site-packages (from langgraph) (2.11.5)\n",
            "Requirement already satisfied: langgraph-checkpoint<3.0.0,>=2.1.0 in c:\\users\\edquestofficial\\appdata\\roaming\\python\\python39\\site-packages (from langgraph) (2.1.1)\n",
            "Requirement already satisfied: langgraph-prebuilt<0.7.0,>=0.6.0 in c:\\users\\edquestofficial\\appdata\\roaming\\python\\python39\\site-packages (from langgraph) (0.6.4)\n",
            "Requirement already satisfied: langchain-core>=0.1 in c:\\users\\edquestofficial\\appdata\\roaming\\python\\python39\\site-packages (from langgraph) (0.3.76)\n",
            "Requirement already satisfied: langgraph-sdk<0.3.0,>=0.2.2 in c:\\users\\edquestofficial\\appdata\\roaming\\python\\python39\\site-packages (from langgraph) (0.2.9)\n",
            "Requirement already satisfied: typing-extensions>=4.7 in c:\\users\\edquestofficial\\appdata\\roaming\\python\\python39\\site-packages (from langchain-core>=0.1->langgraph) (4.13.2)\n",
            "Requirement already satisfied: langsmith>=0.3.45 in c:\\users\\edquestofficial\\appdata\\roaming\\python\\python39\\site-packages (from langchain-core>=0.1->langgraph) (0.4.31)\n",
            "Requirement already satisfied: tenacity!=8.4.0,<10.0.0,>=8.1.0 in c:\\users\\edquestofficial\\appdata\\roaming\\python\\python39\\site-packages (from langchain-core>=0.1->langgraph) (9.1.2)\n",
            "Requirement already satisfied: packaging>=23.2 in c:\\users\\edquestofficial\\appdata\\roaming\\python\\python39\\site-packages (from langchain-core>=0.1->langgraph) (24.2)\n",
            "Requirement already satisfied: PyYAML>=5.3 in c:\\users\\edquestofficial\\appdata\\roaming\\python\\python39\\site-packages (from langchain-core>=0.1->langgraph) (6.0.2)\n",
            "Requirement already satisfied: jsonpatch<2.0,>=1.33 in c:\\users\\edquestofficial\\appdata\\roaming\\python\\python39\\site-packages (from langchain-core>=0.1->langgraph) (1.33)\n",
            "Requirement already satisfied: ormsgpack>=1.10.0 in c:\\users\\edquestofficial\\appdata\\roaming\\python\\python39\\site-packages (from langgraph-checkpoint<3.0.0,>=2.1.0->langgraph) (1.10.0)\n",
            "Requirement already satisfied: httpx>=0.25.2 in c:\\users\\edquestofficial\\appdata\\roaming\\python\\python39\\site-packages (from langgraph-sdk<0.3.0,>=0.2.2->langgraph) (0.28.1)\n",
            "Requirement already satisfied: orjson>=3.10.1 in c:\\users\\edquestofficial\\appdata\\roaming\\python\\python39\\site-packages (from langgraph-sdk<0.3.0,>=0.2.2->langgraph) (3.11.3)\n",
            "Requirement already satisfied: annotated-types>=0.6.0 in c:\\users\\edquestofficial\\appdata\\roaming\\python\\python39\\site-packages (from pydantic>=2.7.4->langgraph) (0.7.0)\n",
            "Requirement already satisfied: pydantic-core==2.33.2 in c:\\users\\edquestofficial\\appdata\\roaming\\python\\python39\\site-packages (from pydantic>=2.7.4->langgraph) (2.33.2)\n",
            "Requirement already satisfied: typing-inspection>=0.4.0 in c:\\users\\edquestofficial\\appdata\\roaming\\python\\python39\\site-packages (from pydantic>=2.7.4->langgraph) (0.4.1)\n",
            "Requirement already satisfied: anyio in c:\\users\\edquestofficial\\appdata\\roaming\\python\\python39\\site-packages (from httpx>=0.25.2->langgraph-sdk<0.3.0,>=0.2.2->langgraph) (4.9.0)\n",
            "Requirement already satisfied: idna in c:\\users\\edquestofficial\\appdata\\roaming\\python\\python39\\site-packages (from httpx>=0.25.2->langgraph-sdk<0.3.0,>=0.2.2->langgraph) (3.10)\n",
            "Requirement already satisfied: certifi in c:\\users\\edquestofficial\\appdata\\roaming\\python\\python39\\site-packages (from httpx>=0.25.2->langgraph-sdk<0.3.0,>=0.2.2->langgraph) (2025.4.26)\n",
            "Requirement already satisfied: httpcore==1.* in c:\\users\\edquestofficial\\appdata\\roaming\\python\\python39\\site-packages (from httpx>=0.25.2->langgraph-sdk<0.3.0,>=0.2.2->langgraph) (1.0.9)\n",
            "Requirement already satisfied: h11>=0.16 in c:\\users\\edquestofficial\\appdata\\roaming\\python\\python39\\site-packages (from httpcore==1.*->httpx>=0.25.2->langgraph-sdk<0.3.0,>=0.2.2->langgraph) (0.16.0)\n",
            "Requirement already satisfied: jsonpointer>=1.9 in c:\\users\\edquestofficial\\appdata\\roaming\\python\\python39\\site-packages (from jsonpatch<2.0,>=1.33->langchain-core>=0.1->langgraph) (3.0.0)\n",
            "Requirement already satisfied: zstandard>=0.23.0 in c:\\users\\edquestofficial\\appdata\\roaming\\python\\python39\\site-packages (from langsmith>=0.3.45->langchain-core>=0.1->langgraph) (0.25.0)\n",
            "Requirement already satisfied: requests>=2.0.0 in c:\\users\\edquestofficial\\appdata\\roaming\\python\\python39\\site-packages (from langsmith>=0.3.45->langchain-core>=0.1->langgraph) (2.32.3)\n",
            "Requirement already satisfied: requests-toolbelt>=1.0.0 in c:\\users\\edquestofficial\\appdata\\roaming\\python\\python39\\site-packages (from langsmith>=0.3.45->langchain-core>=0.1->langgraph) (1.0.0)\n",
            "Requirement already satisfied: charset-normalizer<4,>=2 in c:\\users\\edquestofficial\\appdata\\roaming\\python\\python39\\site-packages (from requests>=2.0.0->langsmith>=0.3.45->langchain-core>=0.1->langgraph) (3.4.2)\n",
            "Requirement already satisfied: urllib3<3,>=1.21.1 in c:\\users\\edquestofficial\\appdata\\roaming\\python\\python39\\site-packages (from requests>=2.0.0->langsmith>=0.3.45->langchain-core>=0.1->langgraph) (2.4.0)\n",
            "Requirement already satisfied: sniffio>=1.1 in c:\\users\\edquestofficial\\appdata\\roaming\\python\\python39\\site-packages (from anyio->httpx>=0.25.2->langgraph-sdk<0.3.0,>=0.2.2->langgraph) (1.3.1)\n",
            "Requirement already satisfied: exceptiongroup>=1.0.2 in c:\\users\\edquestofficial\\appdata\\roaming\\python\\python39\\site-packages (from anyio->httpx>=0.25.2->langgraph-sdk<0.3.0,>=0.2.2->langgraph) (1.3.0)\n"
          ]
        },
        {
          "name": "stderr",
          "output_type": "stream",
          "text": [
            "WARNING: You are using pip version 22.0.4; however, version 25.2 is available.\n",
            "You should consider upgrading via the 'C:\\Program Files\\Python39\\python.exe -m pip install --upgrade pip' command.\n"
          ]
        }
      ],
      "source": [
        "! pip install langgraph\n",
        "\n"
      ]
    },
    {
      "cell_type": "markdown",
      "metadata": {
        "id": "InjyuUWHTd-F"
      },
      "source": [
        "## Importing the dependencies"
      ]
    },
    {
      "cell_type": "code",
      "execution_count": 4,
      "metadata": {
        "id": "vNTVY6hTTfZ1"
      },
      "outputs": [],
      "source": [
        "from langgraph.graph import StateGraph, START, END\n",
        "from typing import TypedDict\n",
        "from IPython.display import Image\n",
        "\n"
      ]
    },
    {
      "cell_type": "markdown",
      "metadata": {},
      "source": [
        "## Defining the State"
      ]
    },
    {
      "cell_type": "code",
      "execution_count": 5,
      "metadata": {
        "id": "LMkBx1NzTkry"
      },
      "outputs": [],
      "source": [
        "# define state\n",
        "class BMIState(TypedDict):\n",
        "\n",
        "    weight_kg: float\n",
        "    height_m: float\n",
        "    bmi: float\n",
        "    category: str"
      ]
    },
    {
      "cell_type": "markdown",
      "metadata": {},
      "source": [
        "## Adding the Nodes"
      ]
    },
    {
      "cell_type": "code",
      "execution_count": 6,
      "metadata": {
        "id": "ZbXGqSD-Tu6P"
      },
      "outputs": [],
      "source": [
        "def calculate_bmi(state: BMIState) -> BMIState:\n",
        "\n",
        "    weight = state['weight_kg']\n",
        "    height = state['height_m']\n",
        "\n",
        "    bmi = weight/(height**2)\n",
        "\n",
        "    state['bmi'] = round(bmi, 2)\n",
        "\n",
        "    return state\n",
        "\n",
        "\n",
        "def label_bmi(state: BMIState) -> BMIState:\n",
        "\n",
        "    bmi = state['bmi']\n",
        "\n",
        "    if bmi < 18.5:\n",
        "        state[\"category\"] = \"Underweight\"\n",
        "    elif 18.5 <= bmi < 25:\n",
        "        state[\"category\"] = \"Normal\"\n",
        "    elif 25 <= bmi < 30:\n",
        "        state[\"category\"] = \"Overweight\"\n",
        "    else:\n",
        "        state[\"category\"] = \"Obese\"\n",
        "\n",
        "    return state\n",
        "\n",
        "\n",
        "\n",
        "\n"
      ]
    },
    {
      "cell_type": "markdown",
      "metadata": {},
      "source": [
        "## Adding Edges and Compiling the Workflow"
      ]
    },
    {
      "cell_type": "code",
      "execution_count": 7,
      "metadata": {
        "id": "mdz_YNkwnJWE"
      },
      "outputs": [],
      "source": [
        "# define your graph\n",
        "graph = StateGraph(BMIState)\n",
        "\n",
        "# add nodes to your graph\n",
        "graph.add_node('calculate_bmi', calculate_bmi)\n",
        "graph.add_node('label_bmi', label_bmi)\n",
        "\n",
        "# add edges to your graph\n",
        "graph.add_edge(START, 'calculate_bmi')\n",
        "graph.add_edge('calculate_bmi', 'label_bmi')\n",
        "graph.add_edge('label_bmi', END)\n",
        "\n",
        "\n",
        "# compile the graph\n",
        "workflow = graph.compile()\n",
        "\n"
      ]
    },
    {
      "cell_type": "markdown",
      "metadata": {},
      "source": [
        "## Final Execution"
      ]
    },
    {
      "cell_type": "code",
      "execution_count": 9,
      "metadata": {
        "colab": {
          "base_uri": "https://localhost:8080/"
        },
        "id": "4Cl0zr-3nQaP",
        "outputId": "87d47484-c6e8-4b1f-bed6-f15a985dec3d"
      },
      "outputs": [
        {
          "name": "stdout",
          "output_type": "stream",
          "text": [
            "{'weight_kg': 60, 'height_m': 1.58, 'bmi': 24.03, 'category': 'Normal'}\n"
          ]
        }
      ],
      "source": [
        "# execute the graph\n",
        "intial_state = {'weight_kg':60, 'height_m':1.58}\n",
        "\n",
        "final_state = workflow.invoke(intial_state)\n",
        "\n",
        "print(final_state)"
      ]
    },
    {
      "cell_type": "markdown",
      "metadata": {},
      "source": [
        "# Visual Representation of the Graph"
      ]
    },
    {
      "cell_type": "code",
      "execution_count": 10,
      "metadata": {
        "colab": {
          "base_uri": "https://localhost:8080/",
          "height": 408
        },
        "id": "a_KA63UFoFQQ",
        "outputId": "dc7ca4f0-da00-44d3-8b7e-018e4352bb7d"
      },
      "outputs": [
        {
          "data": {
            "image/png": "[encoded data removed]",
            "text/plain": [
              "<IPython.core.display.Image object>"
            ]
          },
          "execution_count": 10,
          "metadata": {},
          "output_type": "execute_result"
        }
      ],
      "source": [
        "Image(workflow.get_graph().draw_mermaid_png())"
      ]
    },
    {
      "cell_type": "code",
      "execution_count": null,
      "metadata": {},
      "outputs": [],
      "source": []
    }
  ],
  "metadata": {
    "colab": {
      "provenance": []
    },
    "kernelspec": {
      "display_name": "Python 3",
      "name": "python3"
    },
    "language_info": {
      "codemirror_mode": {
        "name": "ipython",
        "version": 3
      },
      "file_extension": ".py",
      "mimetype": "text/x-python",
      "name": "python",
      "nbconvert_exporter": "python",
      "pygments_lexer": "ipython3",
      "version": "3.9.13"
    }
  },
  "nbformat": 4,
  "nbformat_minor": 0
}
