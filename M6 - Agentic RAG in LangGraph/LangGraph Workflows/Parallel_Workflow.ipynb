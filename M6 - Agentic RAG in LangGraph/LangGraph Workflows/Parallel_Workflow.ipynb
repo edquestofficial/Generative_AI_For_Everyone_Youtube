{
 "cells": [
  {
   "cell_type": "markdown",
   "id": "8edb8d6b",
   "metadata": {},
   "source": [
    "## Installing the Dependencies"
   ]
  },
  {
   "cell_type": "code",
   "execution_count": 3,
   "id": "c2d2fe89",
   "metadata": {},
   "outputs": [
    {
     "name": "stdout",
     "output_type": "stream",
     "text": [
      "Defaulting to user installation because normal site-packages is not writeable\n",
      "Requirement already satisfied: langgraph in c:\\users\\edquestofficial\\appdata\\roaming\\python\\python39\\site-packages (0.6.8)\n",
      "Requirement already satisfied: langgraph-sdk<0.3.0,>=0.2.2 in c:\\users\\edquestofficial\\appdata\\roaming\\python\\python39\\site-packages (from langgraph) (0.2.9)\n",
      "Requirement already satisfied: langchain-core>=0.1 in c:\\users\\edquestofficial\\appdata\\roaming\\python\\python39\\site-packages (from langgraph) (0.3.76)\n",
      "Requirement already satisfied: xxhash>=3.5.0 in c:\\users\\edquestofficial\\appdata\\roaming\\python\\python39\\site-packages (from langgraph) (3.5.0)\n",
      "Requirement already satisfied: langgraph-prebuilt<0.7.0,>=0.6.0 in c:\\users\\edquestofficial\\appdata\\roaming\\python\\python39\\site-packages (from langgraph) (0.6.4)\n",
      "Requirement already satisfied: langgraph-checkpoint<3.0.0,>=2.1.0 in c:\\users\\edquestofficial\\appdata\\roaming\\python\\python39\\site-packages (from langgraph) (2.1.1)\n",
      "Requirement already satisfied: pydantic>=2.7.4 in c:\\users\\edquestofficial\\appdata\\roaming\\python\\python39\\site-packages (from langgraph) (2.11.5)\n",
      "Requirement already satisfied: langsmith>=0.3.45 in c:\\users\\edquestofficial\\appdata\\roaming\\python\\python39\\site-packages (from langchain-core>=0.1->langgraph) (0.4.31)\n",
      "Requirement already satisfied: typing-extensions>=4.7 in c:\\users\\edquestofficial\\appdata\\roaming\\python\\python39\\site-packages (from langchain-core>=0.1->langgraph) (4.13.2)\n",
      "Requirement already satisfied: PyYAML>=5.3 in c:\\users\\edquestofficial\\appdata\\roaming\\python\\python39\\site-packages (from langchain-core>=0.1->langgraph) (6.0.2)\n",
      "Requirement already satisfied: jsonpatch<2.0,>=1.33 in c:\\users\\edquestofficial\\appdata\\roaming\\python\\python39\\site-packages (from langchain-core>=0.1->langgraph) (1.33)\n",
      "Requirement already satisfied: packaging>=23.2 in c:\\users\\edquestofficial\\appdata\\roaming\\python\\python39\\site-packages (from langchain-core>=0.1->langgraph) (24.2)\n",
      "Requirement already satisfied: tenacity!=8.4.0,<10.0.0,>=8.1.0 in c:\\users\\edquestofficial\\appdata\\roaming\\python\\python39\\site-packages (from langchain-core>=0.1->langgraph) (9.1.2)\n",
      "Requirement already satisfied: ormsgpack>=1.10.0 in c:\\users\\edquestofficial\\appdata\\roaming\\python\\python39\\site-packages (from langgraph-checkpoint<3.0.0,>=2.1.0->langgraph) (1.10.0)\n",
      "Requirement already satisfied: httpx>=0.25.2 in c:\\users\\edquestofficial\\appdata\\roaming\\python\\python39\\site-packages (from langgraph-sdk<0.3.0,>=0.2.2->langgraph) (0.28.1)\n",
      "Requirement already satisfied: orjson>=3.10.1 in c:\\users\\edquestofficial\\appdata\\roaming\\python\\python39\\site-packages (from langgraph-sdk<0.3.0,>=0.2.2->langgraph) (3.11.3)\n",
      "Requirement already satisfied: annotated-types>=0.6.0 in c:\\users\\edquestofficial\\appdata\\roaming\\python\\python39\\site-packages (from pydantic>=2.7.4->langgraph) (0.7.0)\n",
      "Requirement already satisfied: typing-inspection>=0.4.0 in c:\\users\\edquestofficial\\appdata\\roaming\\python\\python39\\site-packages (from pydantic>=2.7.4->langgraph) (0.4.1)\n",
      "Requirement already satisfied: pydantic-core==2.33.2 in c:\\users\\edquestofficial\\appdata\\roaming\\python\\python39\\site-packages (from pydantic>=2.7.4->langgraph) (2.33.2)\n",
      "Requirement already satisfied: idna in c:\\users\\edquestofficial\\appdata\\roaming\\python\\python39\\site-packages (from httpx>=0.25.2->langgraph-sdk<0.3.0,>=0.2.2->langgraph) (3.10)\n",
      "Requirement already satisfied: anyio in c:\\users\\edquestofficial\\appdata\\roaming\\python\\python39\\site-packages (from httpx>=0.25.2->langgraph-sdk<0.3.0,>=0.2.2->langgraph) (4.9.0)\n",
      "Requirement already satisfied: httpcore==1.* in c:\\users\\edquestofficial\\appdata\\roaming\\python\\python39\\site-packages (from httpx>=0.25.2->langgraph-sdk<0.3.0,>=0.2.2->langgraph) (1.0.9)\n",
      "Requirement already satisfied: certifi in c:\\users\\edquestofficial\\appdata\\roaming\\python\\python39\\site-packages (from httpx>=0.25.2->langgraph-sdk<0.3.0,>=0.2.2->langgraph) (2025.4.26)\n",
      "Requirement already satisfied: h11>=0.16 in c:\\users\\edquestofficial\\appdata\\roaming\\python\\python39\\site-packages (from httpcore==1.*->httpx>=0.25.2->langgraph-sdk<0.3.0,>=0.2.2->langgraph) (0.16.0)\n",
      "Requirement already satisfied: jsonpointer>=1.9 in c:\\users\\edquestofficial\\appdata\\roaming\\python\\python39\\site-packages (from jsonpatch<2.0,>=1.33->langchain-core>=0.1->langgraph) (3.0.0)\n",
      "Requirement already satisfied: requests>=2.0.0 in c:\\users\\edquestofficial\\appdata\\roaming\\python\\python39\\site-packages (from langsmith>=0.3.45->langchain-core>=0.1->langgraph) (2.32.3)\n",
      "Requirement already satisfied: zstandard>=0.23.0 in c:\\users\\edquestofficial\\appdata\\roaming\\python\\python39\\site-packages (from langsmith>=0.3.45->langchain-core>=0.1->langgraph) (0.25.0)\n",
      "Requirement already satisfied: requests-toolbelt>=1.0.0 in c:\\users\\edquestofficial\\appdata\\roaming\\python\\python39\\site-packages (from langsmith>=0.3.45->langchain-core>=0.1->langgraph) (1.0.0)\n",
      "Requirement already satisfied: urllib3<3,>=1.21.1 in c:\\users\\edquestofficial\\appdata\\roaming\\python\\python39\\site-packages (from requests>=2.0.0->langsmith>=0.3.45->langchain-core>=0.1->langgraph) (2.4.0)\n",
      "Requirement already satisfied: charset-normalizer<4,>=2 in c:\\users\\edquestofficial\\appdata\\roaming\\python\\python39\\site-packages (from requests>=2.0.0->langsmith>=0.3.45->langchain-core>=0.1->langgraph) (3.4.2)\n",
      "Requirement already satisfied: exceptiongroup>=1.0.2 in c:\\users\\edquestofficial\\appdata\\roaming\\python\\python39\\site-packages (from anyio->httpx>=0.25.2->langgraph-sdk<0.3.0,>=0.2.2->langgraph) (1.3.0)\n",
      "Requirement already satisfied: sniffio>=1.1 in c:\\users\\edquestofficial\\appdata\\roaming\\python\\python39\\site-packages (from anyio->httpx>=0.25.2->langgraph-sdk<0.3.0,>=0.2.2->langgraph) (1.3.1)\n",
      "Note: you may need to restart the kernel to use updated packages.\n"
     ]
    },
    {
     "name": "stderr",
     "output_type": "stream",
     "text": [
      "WARNING: You are using pip version 22.0.4; however, version 25.2 is available.\n",
      "You should consider upgrading via the 'c:\\Program Files\\Python39\\python.exe -m pip install --upgrade pip' command.\n"
     ]
    }
   ],
   "source": [
    "pip install langgraph\n"
   ]
  },
  {
   "cell_type": "markdown",
   "id": "7f401e27",
   "metadata": {},
   "source": [
    "## Importing dependencies"
   ]
  },
  {
   "cell_type": "code",
   "execution_count": 4,
   "id": "03b9e2fb",
   "metadata": {},
   "outputs": [],
   "source": [
    "from langgraph.graph import StateGraph, END\n",
    "from typing import TypedDict, Optional\n",
    "from IPython.display import Image, display\n",
    "from typing_extensions import Annotated\n",
    "import operator\n"
   ]
  },
  {
   "cell_type": "markdown",
   "id": "6a76172d",
   "metadata": {},
   "source": [
    "## Defining the State and Creating Nodes"
   ]
  },
  {
   "cell_type": "code",
   "execution_count": 5,
   "id": "cc1f49bf",
   "metadata": {},
   "outputs": [],
   "source": [
    "class ParallelState(TypedDict):\n",
    "    results: Annotated[list[str], operator.add]  \n",
    "\n",
    "def step1(state: ParallelState) -> ParallelState:\n",
    "    return {\"results\": [\"step1 done\"]}\n",
    "\n",
    "def step2(state: ParallelState) -> ParallelState:\n",
    "    return {\"results\": [\"step2 done\"]}\n",
    "\n",
    "def merge(state: ParallelState) -> ParallelState:\n",
    "    print(\"Merged results:\", state[\"results\"])\n",
    "    return state"
   ]
  },
  {
   "cell_type": "markdown",
   "id": "1fe3ebe6",
   "metadata": {},
   "source": [
    "## Building the Graph by adding nodes and edges"
   ]
  },
  {
   "cell_type": "code",
   "execution_count": 6,
   "id": "247ff4f3",
   "metadata": {},
   "outputs": [
    {
     "data": {
      "text/plain": [
       "<langgraph.graph.state.StateGraph at 0x1aff2e39850>"
      ]
     },
     "execution_count": 6,
     "metadata": {},
     "output_type": "execute_result"
    }
   ],
   "source": [
    "# Build graph\n",
    "graph = StateGraph(ParallelState)\n",
    "graph.add_node(\"step1\", step1)\n",
    "graph.add_node(\"step2\", step2)\n",
    "graph.add_node(\"merge\", merge)\n",
    "\n",
    "graph.set_entry_point(\"step1\")\n",
    "graph.add_edge(\"step1\", \"merge\")\n",
    "graph.add_edge(\"step2\", \"merge\")\n",
    "\n",
    "# Add parallel edge: entry triggers both step1 and step2\n",
    "graph.add_edge(\"__start__\", \"step2\")\n",
    "\n",
    "graph.add_edge(\"merge\", END)\n"
   ]
  },
  {
   "cell_type": "markdown",
   "id": "23ace39e",
   "metadata": {},
   "source": [
    "## Compiling the Workflow"
   ]
  },
  {
   "cell_type": "code",
   "execution_count": 7,
   "id": "218f9d9c",
   "metadata": {},
   "outputs": [],
   "source": [
    "app = graph.compile()\n"
   ]
  },
  {
   "cell_type": "markdown",
   "id": "4fc2c942",
   "metadata": {},
   "source": [
    "## Visual Representation of the Graph"
   ]
  },
  {
   "cell_type": "code",
   "execution_count": 8,
   "id": "5d666b52",
   "metadata": {},
   "outputs": [
    {
     "data": {
      "image/png": "[encoded data removed]",
      "text/plain": [
       "<IPython.core.display.Image object>"
      ]
     },
     "metadata": {},
     "output_type": "display_data"
    }
   ],
   "source": [
    "display(Image(data=app.get_graph().draw_mermaid_png()))\n"
   ]
  },
  {
   "cell_type": "markdown",
   "id": "f16fda09",
   "metadata": {},
   "source": [
    "## Invoking the Workflow"
   ]
  },
  {
   "cell_type": "code",
   "execution_count": 9,
   "id": "89b4dc94",
   "metadata": {},
   "outputs": [
    {
     "name": "stdout",
     "output_type": "stream",
     "text": [
      "Merged results: ['step1 done', 'step2 done']\n"
     ]
    },
    {
     "data": {
      "text/plain": [
       "{'results': ['step1 done', 'step2 done', 'step1 done', 'step2 done']}"
      ]
     },
     "execution_count": 9,
     "metadata": {},
     "output_type": "execute_result"
    }
   ],
   "source": [
    "state = {\"step1_done\": None, \"step2_done\": None, \"merged\": None}\n",
    "app.invoke(state)"
   ]
  },
  {
   "cell_type": "code",
   "execution_count": null,
   "id": "39781d2b",
   "metadata": {},
   "outputs": [],
   "source": []
  }
 ],
 "metadata": {
  "kernelspec": {
   "display_name": "Python 3",
   "language": "python",
   "name": "python3"
  },
  "language_info": {
   "codemirror_mode": {
    "name": "ipython",
    "version": 3
   },
   "file_extension": ".py",
   "mimetype": "text/x-python",
   "name": "python",
   "nbconvert_exporter": "python",
   "pygments_lexer": "ipython3",
   "version": "3.9.13"
  }
 },
 "nbformat": 4,
 "nbformat_minor": 5
}
