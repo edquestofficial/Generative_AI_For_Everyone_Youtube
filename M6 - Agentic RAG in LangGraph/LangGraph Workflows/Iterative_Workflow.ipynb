{
 "cells": [
  {
   "cell_type": "markdown",
   "id": "39f5d12a",
   "metadata": {},
   "source": [
    "## Installing the Dependencies"
   ]
  },
  {
   "cell_type": "code",
   "execution_count": 1,
   "id": "c7897140",
   "metadata": {},
   "outputs": [
    {
     "name": "stdout",
     "output_type": "stream",
     "text": [
      "Defaulting to user installation because normal site-packages is not writeable\n",
      "Requirement already satisfied: langgraph in c:\\users\\edquestofficial\\appdata\\roaming\\python\\python39\\site-packages (0.6.8)\n",
      "Requirement already satisfied: langgraph-sdk<0.3.0,>=0.2.2 in c:\\users\\edquestofficial\\appdata\\roaming\\python\\python39\\site-packages (from langgraph) (0.2.9)\n",
      "Requirement already satisfied: pydantic>=2.7.4 in c:\\users\\edquestofficial\\appdata\\roaming\\python\\python39\\site-packages (from langgraph) (2.11.5)\n",
      "Requirement already satisfied: xxhash>=3.5.0 in c:\\users\\edquestofficial\\appdata\\roaming\\python\\python39\\site-packages (from langgraph) (3.5.0)\n",
      "Requirement already satisfied: langgraph-checkpoint<3.0.0,>=2.1.0 in c:\\users\\edquestofficial\\appdata\\roaming\\python\\python39\\site-packages (from langgraph) (2.1.1)\n",
      "Requirement already satisfied: langgraph-prebuilt<0.7.0,>=0.6.0 in c:\\users\\edquestofficial\\appdata\\roaming\\python\\python39\\site-packages (from langgraph) (0.6.4)\n",
      "Requirement already satisfied: langchain-core>=0.1 in c:\\users\\edquestofficial\\appdata\\roaming\\python\\python39\\site-packages (from langgraph) (0.3.76)\n",
      "Requirement already satisfied: packaging>=23.2 in c:\\users\\edquestofficial\\appdata\\roaming\\python\\python39\\site-packages (from langchain-core>=0.1->langgraph) (24.2)\n",
      "Requirement already satisfied: tenacity!=8.4.0,<10.0.0,>=8.1.0 in c:\\users\\edquestofficial\\appdata\\roaming\\python\\python39\\site-packages (from langchain-core>=0.1->langgraph) (9.1.2)\n",
      "Requirement already satisfied: langsmith>=0.3.45 in c:\\users\\edquestofficial\\appdata\\roaming\\python\\python39\\site-packages (from langchain-core>=0.1->langgraph) (0.4.31)\n",
      "Requirement already satisfied: PyYAML>=5.3 in c:\\users\\edquestofficial\\appdata\\roaming\\python\\python39\\site-packages (from langchain-core>=0.1->langgraph) (6.0.2)\n",
      "Requirement already satisfied: jsonpatch<2.0,>=1.33 in c:\\users\\edquestofficial\\appdata\\roaming\\python\\python39\\site-packages (from langchain-core>=0.1->langgraph) (1.33)\n",
      "Requirement already satisfied: typing-extensions>=4.7 in c:\\users\\edquestofficial\\appdata\\roaming\\python\\python39\\site-packages (from langchain-core>=0.1->langgraph) (4.13.2)\n",
      "Requirement already satisfied: ormsgpack>=1.10.0 in c:\\users\\edquestofficial\\appdata\\roaming\\python\\python39\\site-packages (from langgraph-checkpoint<3.0.0,>=2.1.0->langgraph) (1.10.0)\n",
      "Requirement already satisfied: httpx>=0.25.2 in c:\\users\\edquestofficial\\appdata\\roaming\\python\\python39\\site-packages (from langgraph-sdk<0.3.0,>=0.2.2->langgraph) (0.28.1)\n",
      "Requirement already satisfied: orjson>=3.10.1 in c:\\users\\edquestofficial\\appdata\\roaming\\python\\python39\\site-packages (from langgraph-sdk<0.3.0,>=0.2.2->langgraph) (3.11.3)\n",
      "Requirement already satisfied: annotated-types>=0.6.0 in c:\\users\\edquestofficial\\appdata\\roaming\\python\\python39\\site-packages (from pydantic>=2.7.4->langgraph) (0.7.0)\n",
      "Requirement already satisfied: pydantic-core==2.33.2 in c:\\users\\edquestofficial\\appdata\\roaming\\python\\python39\\site-packages (from pydantic>=2.7.4->langgraph) (2.33.2)\n",
      "Requirement already satisfied: typing-inspection>=0.4.0 in c:\\users\\edquestofficial\\appdata\\roaming\\python\\python39\\site-packages (from pydantic>=2.7.4->langgraph) (0.4.1)\n",
      "Requirement already satisfied: anyio in c:\\users\\edquestofficial\\appdata\\roaming\\python\\python39\\site-packages (from httpx>=0.25.2->langgraph-sdk<0.3.0,>=0.2.2->langgraph) (4.9.0)\n",
      "Requirement already satisfied: certifi in c:\\users\\edquestofficial\\appdata\\roaming\\python\\python39\\site-packages (from httpx>=0.25.2->langgraph-sdk<0.3.0,>=0.2.2->langgraph) (2025.4.26)\n",
      "Requirement already satisfied: idna in c:\\users\\edquestofficial\\appdata\\roaming\\python\\python39\\site-packages (from httpx>=0.25.2->langgraph-sdk<0.3.0,>=0.2.2->langgraph) (3.10)\n",
      "Requirement already satisfied: httpcore==1.* in c:\\users\\edquestofficial\\appdata\\roaming\\python\\python39\\site-packages (from httpx>=0.25.2->langgraph-sdk<0.3.0,>=0.2.2->langgraph) (1.0.9)\n",
      "Requirement already satisfied: h11>=0.16 in c:\\users\\edquestofficial\\appdata\\roaming\\python\\python39\\site-packages (from httpcore==1.*->httpx>=0.25.2->langgraph-sdk<0.3.0,>=0.2.2->langgraph) (0.16.0)\n",
      "Requirement already satisfied: jsonpointer>=1.9 in c:\\users\\edquestofficial\\appdata\\roaming\\python\\python39\\site-packages (from jsonpatch<2.0,>=1.33->langchain-core>=0.1->langgraph) (3.0.0)\n",
      "Requirement already satisfied: requests-toolbelt>=1.0.0 in c:\\users\\edquestofficial\\appdata\\roaming\\python\\python39\\site-packages (from langsmith>=0.3.45->langchain-core>=0.1->langgraph) (1.0.0)\n",
      "Requirement already satisfied: requests>=2.0.0 in c:\\users\\edquestofficial\\appdata\\roaming\\python\\python39\\site-packages (from langsmith>=0.3.45->langchain-core>=0.1->langgraph) (2.32.3)\n",
      "Requirement already satisfied: zstandard>=0.23.0 in c:\\users\\edquestofficial\\appdata\\roaming\\python\\python39\\site-packages (from langsmith>=0.3.45->langchain-core>=0.1->langgraph) (0.25.0)\n",
      "Requirement already satisfied: charset-normalizer<4,>=2 in c:\\users\\edquestofficial\\appdata\\roaming\\python\\python39\\site-packages (from requests>=2.0.0->langsmith>=0.3.45->langchain-core>=0.1->langgraph) (3.4.2)\n",
      "Requirement already satisfied: urllib3<3,>=1.21.1 in c:\\users\\edquestofficial\\appdata\\roaming\\python\\python39\\site-packages (from requests>=2.0.0->langsmith>=0.3.45->langchain-core>=0.1->langgraph) (2.4.0)\n",
      "Requirement already satisfied: exceptiongroup>=1.0.2 in c:\\users\\edquestofficial\\appdata\\roaming\\python\\python39\\site-packages (from anyio->httpx>=0.25.2->langgraph-sdk<0.3.0,>=0.2.2->langgraph) (1.3.0)\n",
      "Requirement already satisfied: sniffio>=1.1 in c:\\users\\edquestofficial\\appdata\\roaming\\python\\python39\\site-packages (from anyio->httpx>=0.25.2->langgraph-sdk<0.3.0,>=0.2.2->langgraph) (1.3.1)\n"
     ]
    },
    {
     "name": "stderr",
     "output_type": "stream",
     "text": [
      "WARNING: You are using pip version 22.0.4; however, version 25.2 is available.\n",
      "You should consider upgrading via the 'C:\\Program Files\\Python39\\python.exe -m pip install --upgrade pip' command.\n"
     ]
    }
   ],
   "source": [
    "! pip install langgraph\n"
   ]
  },
  {
   "cell_type": "markdown",
   "id": "9e7bd3cc",
   "metadata": {},
   "source": [
    "## Importing the dependencies"
   ]
  },
  {
   "cell_type": "code",
   "execution_count": 2,
   "id": "1cabb7e8",
   "metadata": {},
   "outputs": [],
   "source": [
    "from langgraph.graph import StateGraph, END\n",
    "from typing import TypedDict\n",
    "from IPython.display import Image, display"
   ]
  },
  {
   "cell_type": "markdown",
   "id": "e26abdd3",
   "metadata": {},
   "source": [
    "## Defining the State and  Creating nodes\n"
   ]
  },
  {
   "cell_type": "code",
   "execution_count": 3,
   "id": "49ebbabe",
   "metadata": {},
   "outputs": [],
   "source": [
    "class IterState(TypedDict):\n",
    "    counter: int\n",
    "\n",
    "def increment(state: IterState) -> IterState:\n",
    "    state[\"counter\"] += 1\n",
    "    print(f\"🔁 Counter at: {state['counter']}\")\n",
    "    return state\n",
    "\n",
    "def check_done(state: IterState) -> IterState:\n",
    "    return state\n",
    "\n",
    "# Router must return a *string key* that matches the mapping\n",
    "def route(state: IterState) -> str:\n",
    "    return \"loop\" if state[\"counter\"] < 3 else \"stop\""
   ]
  },
  {
   "cell_type": "markdown",
   "id": "a39ea6fa",
   "metadata": {},
   "source": [
    "## Constructing the Workflow by adding nodes and edges"
   ]
  },
  {
   "cell_type": "code",
   "execution_count": null,
   "id": "27775f85",
   "metadata": {},
   "outputs": [
    {
     "data": {
      "text/plain": [
       "<langgraph.graph.state.StateGraph at 0x2119f7480a0>"
      ]
     },
     "execution_count": 4,
     "metadata": {},
     "output_type": "execute_result"
    }
   ],
   "source": [
    "# Build graph\n",
    "graph = StateGraph(IterState)\n",
    "graph.add_node(\"increment\", increment)\n",
    "graph.add_node(\"check_done\", check_done)\n",
    "\n",
    "graph.set_entry_point(\"increment\")\n",
    "graph.add_edge(\"increment\", \"check_done\")\n",
    "\n",
    "# Conditional edges with string keys\n",
    "graph.add_conditional_edges(\n",
    "    \"check_done\",\n",
    "    route,\n",
    "    {\n",
    "        \"loop\": \"increment\",\n",
    "        \"stop\": END,\n",
    "    },\n",
    ")\n",
    "\n",
    "\n",
    "\n",
    "\n",
    "\n",
    "\n",
    "\n",
    "\n",
    "\n",
    "\n",
    "\n",
    "\n",
    "\n",
    "\n",
    "\n",
    "\n",
    "\n",
    "\n",
    "\n",
    "\n",
    "\n",
    "\n",
    "\n"
   ]
  },
  {
   "cell_type": "markdown",
   "id": "b2439cec",
   "metadata": {},
   "source": [
    "## Compiling the Workflow"
   ]
  },
  {
   "cell_type": "code",
   "execution_count": null,
   "id": "29aa139d",
   "metadata": {},
   "outputs": [],
   "source": [
    "app = graph.compile()\n",
    "\n",
    "\n",
    "\n",
    "\n",
    "\n",
    "\n",
    "\n",
    "\n",
    "\n",
    "\n",
    "from langgraph.checkpoint.memory import MemorySaver\n",
    "\n",
    "\n",
    "# --- Use MemorySaver as checkpointer ---\n",
    "checkpointer = MemorySaver()\n",
    "app = app.compile(checkpointer=checkpointer)\n",
    "\n",
    "\n",
    "# --- Run workflow ---\n",
    "final_state = app.invoke({\"results\": []}, config={\"configurable\": {\"thread_id\": \"demo\"}})\n",
    "\n",
    "print(\"Final State:\", final_state)\n",
    "\n",
    "\n",
    "\n",
    "\n",
    "\n",
    "\n",
    "\n",
    "\n"
   ]
  },
  {
   "cell_type": "markdown",
   "id": "d5349471",
   "metadata": {},
   "source": [
    "## Visual Representation of the Workflow"
   ]
  },
  {
   "cell_type": "code",
   "execution_count": 6,
   "id": "662e9e93",
   "metadata": {},
   "outputs": [
    {
     "data": {
      "image/png": "[encoded data removed]",
      "text/plain": [
       "<IPython.core.display.Image object>"
      ]
     },
     "metadata": {},
     "output_type": "display_data"
    }
   ],
   "source": [
    "display(Image(data=app.get_graph().draw_mermaid_png()))\n"
   ]
  },
  {
   "cell_type": "markdown",
   "id": "27f4070e",
   "metadata": {},
   "source": [
    "## Final Execution"
   ]
  },
  {
   "cell_type": "code",
   "execution_count": 7,
   "id": "50318682",
   "metadata": {},
   "outputs": [
    {
     "name": "stdout",
     "output_type": "stream",
     "text": [
      "🔁 Counter at: 1\n",
      "🔁 Counter at: 2\n",
      "🔁 Counter at: 3\n"
     ]
    },
    {
     "data": {
      "text/plain": [
       "{'counter': 3}"
      ]
     },
     "execution_count": 7,
     "metadata": {},
     "output_type": "execute_result"
    }
   ],
   "source": [
    "state = {\"counter\": 0}\n",
    "app.invoke(state)"
   ]
  },
  {
   "cell_type": "code",
   "execution_count": null,
   "id": "ef8d97e2",
   "metadata": {},
   "outputs": [],
   "source": []
  }
 ],
 "metadata": {
  "kernelspec": {
   "display_name": "Python 3",
   "language": "python",
   "name": "python3"
  },
  "language_info": {
   "codemirror_mode": {
    "name": "ipython",
    "version": 3
   },
   "file_extension": ".py",
   "mimetype": "text/x-python",
   "name": "python",
   "nbconvert_exporter": "python",
   "pygments_lexer": "ipython3",
   "version": "3.9.13"
  }
 },
 "nbformat": 4,
 "nbformat_minor": 5
}
